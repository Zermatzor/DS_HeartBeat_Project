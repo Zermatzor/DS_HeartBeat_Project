{
 "cells": [
  {
   "cell_type": "markdown",
   "id": "999be7a1",
   "metadata": {},
   "source": [
    "# 1. Data mining and data viz"
   ]
  },
  {
   "cell_type": "markdown",
   "id": "42b63039",
   "metadata": {},
   "source": [
    "## 1.1 Data analysis"
   ]
  },
  {
   "cell_type": "markdown",
   "id": "730594c5",
   "metadata": {},
   "source": [
    "For the project, we received two different datasets, which were further divided into train and test data.\n",
    "\n",
    "1. mitbih_test.csv\n",
    "2. mitbih_train.csv\n",
    "3. ptbdb_abnormal.csv\n",
    "4. ptbdb_normal.csv\n",
    "\n",
    "We will start by loading each dataframe via our backend-method \"load_dataframe\"."
   ]
  },
  {
   "cell_type": "code",
   "execution_count": null,
   "id": "5ba80335",
   "metadata": {},
   "outputs": [],
   "source": [
    "import pandas as pd\n",
    "import matplotlib.pyplot as plt\n",
    "import seaborn as sns\n",
    "import data_load_data\n",
    "\n",
    "mitbih_test = data_load_data.load_dataframe(\"train\")\n",
    "mitbih_train = data_load_data.load_dataframe(\"train\")\n",
    "ptbdb_abnormal = data_load_data.load_dataframe(\"abnormal\")\n",
    "ptbdb_normal = data_load_data.load_dataframe(\"normal\")"
   ]
  },
  {
   "cell_type": "markdown",
   "id": "6279e064",
   "metadata": {},
   "source": [
    "We will focus on the mitib_train dataset first"
   ]
  },
  {
   "cell_type": "code",
   "execution_count": 14,
   "id": "b3ee4397",
   "metadata": {},
   "outputs": [
    {
     "data": {
      "text/html": [
       "<div>\n",
       "<style scoped>\n",
       "    .dataframe tbody tr th:only-of-type {\n",
       "        vertical-align: middle;\n",
       "    }\n",
       "\n",
       "    .dataframe tbody tr th {\n",
       "        vertical-align: top;\n",
       "    }\n",
       "\n",
       "    .dataframe thead th {\n",
       "        text-align: right;\n",
       "    }\n",
       "</style>\n",
       "<table border=\"1\" class=\"dataframe\">\n",
       "  <thead>\n",
       "    <tr style=\"text-align: right;\">\n",
       "      <th></th>\n",
       "      <th>9.779411554336547852e-01</th>\n",
       "      <th>9.264705777168273926e-01</th>\n",
       "      <th>6.813725233078002930e-01</th>\n",
       "      <th>2.450980395078659058e-01</th>\n",
       "      <th>1.544117629528045654e-01</th>\n",
       "      <th>1.911764740943908691e-01</th>\n",
       "      <th>1.519607901573181152e-01</th>\n",
       "      <th>8.578431606292724609e-02</th>\n",
       "      <th>5.882352963089942932e-02</th>\n",
       "      <th>4.901960864663124084e-02</th>\n",
       "      <th>...</th>\n",
       "      <th>0.000000000000000000e+00.79</th>\n",
       "      <th>0.000000000000000000e+00.80</th>\n",
       "      <th>0.000000000000000000e+00.81</th>\n",
       "      <th>0.000000000000000000e+00.82</th>\n",
       "      <th>0.000000000000000000e+00.83</th>\n",
       "      <th>0.000000000000000000e+00.84</th>\n",
       "      <th>0.000000000000000000e+00.85</th>\n",
       "      <th>0.000000000000000000e+00.86</th>\n",
       "      <th>0.000000000000000000e+00.87</th>\n",
       "      <th>0.000000000000000000e+00.88</th>\n",
       "    </tr>\n",
       "  </thead>\n",
       "  <tbody>\n",
       "    <tr>\n",
       "      <th>0</th>\n",
       "      <td>0.960114</td>\n",
       "      <td>0.863248</td>\n",
       "      <td>0.461538</td>\n",
       "      <td>0.196581</td>\n",
       "      <td>0.094017</td>\n",
       "      <td>0.125356</td>\n",
       "      <td>0.099715</td>\n",
       "      <td>0.088319</td>\n",
       "      <td>0.074074</td>\n",
       "      <td>0.082621</td>\n",
       "      <td>...</td>\n",
       "      <td>0.0</td>\n",
       "      <td>0.0</td>\n",
       "      <td>0.0</td>\n",
       "      <td>0.0</td>\n",
       "      <td>0.0</td>\n",
       "      <td>0.0</td>\n",
       "      <td>0.0</td>\n",
       "      <td>0.0</td>\n",
       "      <td>0.0</td>\n",
       "      <td>0.0</td>\n",
       "    </tr>\n",
       "    <tr>\n",
       "      <th>1</th>\n",
       "      <td>1.000000</td>\n",
       "      <td>0.659459</td>\n",
       "      <td>0.186486</td>\n",
       "      <td>0.070270</td>\n",
       "      <td>0.070270</td>\n",
       "      <td>0.059459</td>\n",
       "      <td>0.056757</td>\n",
       "      <td>0.043243</td>\n",
       "      <td>0.054054</td>\n",
       "      <td>0.045946</td>\n",
       "      <td>...</td>\n",
       "      <td>0.0</td>\n",
       "      <td>0.0</td>\n",
       "      <td>0.0</td>\n",
       "      <td>0.0</td>\n",
       "      <td>0.0</td>\n",
       "      <td>0.0</td>\n",
       "      <td>0.0</td>\n",
       "      <td>0.0</td>\n",
       "      <td>0.0</td>\n",
       "      <td>0.0</td>\n",
       "    </tr>\n",
       "    <tr>\n",
       "      <th>2</th>\n",
       "      <td>0.925414</td>\n",
       "      <td>0.665746</td>\n",
       "      <td>0.541436</td>\n",
       "      <td>0.276243</td>\n",
       "      <td>0.196133</td>\n",
       "      <td>0.077348</td>\n",
       "      <td>0.071823</td>\n",
       "      <td>0.060773</td>\n",
       "      <td>0.066298</td>\n",
       "      <td>0.058011</td>\n",
       "      <td>...</td>\n",
       "      <td>0.0</td>\n",
       "      <td>0.0</td>\n",
       "      <td>0.0</td>\n",
       "      <td>0.0</td>\n",
       "      <td>0.0</td>\n",
       "      <td>0.0</td>\n",
       "      <td>0.0</td>\n",
       "      <td>0.0</td>\n",
       "      <td>0.0</td>\n",
       "      <td>0.0</td>\n",
       "    </tr>\n",
       "    <tr>\n",
       "      <th>3</th>\n",
       "      <td>0.967136</td>\n",
       "      <td>1.000000</td>\n",
       "      <td>0.830986</td>\n",
       "      <td>0.586854</td>\n",
       "      <td>0.356808</td>\n",
       "      <td>0.248826</td>\n",
       "      <td>0.145540</td>\n",
       "      <td>0.089202</td>\n",
       "      <td>0.117371</td>\n",
       "      <td>0.150235</td>\n",
       "      <td>...</td>\n",
       "      <td>0.0</td>\n",
       "      <td>0.0</td>\n",
       "      <td>0.0</td>\n",
       "      <td>0.0</td>\n",
       "      <td>0.0</td>\n",
       "      <td>0.0</td>\n",
       "      <td>0.0</td>\n",
       "      <td>0.0</td>\n",
       "      <td>0.0</td>\n",
       "      <td>0.0</td>\n",
       "    </tr>\n",
       "    <tr>\n",
       "      <th>4</th>\n",
       "      <td>0.927461</td>\n",
       "      <td>1.000000</td>\n",
       "      <td>0.626943</td>\n",
       "      <td>0.193437</td>\n",
       "      <td>0.094991</td>\n",
       "      <td>0.072539</td>\n",
       "      <td>0.043178</td>\n",
       "      <td>0.053541</td>\n",
       "      <td>0.093264</td>\n",
       "      <td>0.189983</td>\n",
       "      <td>...</td>\n",
       "      <td>0.0</td>\n",
       "      <td>0.0</td>\n",
       "      <td>0.0</td>\n",
       "      <td>0.0</td>\n",
       "      <td>0.0</td>\n",
       "      <td>0.0</td>\n",
       "      <td>0.0</td>\n",
       "      <td>0.0</td>\n",
       "      <td>0.0</td>\n",
       "      <td>0.0</td>\n",
       "    </tr>\n",
       "  </tbody>\n",
       "</table>\n",
       "<p>5 rows × 188 columns</p>\n",
       "</div>"
      ],
      "text/plain": [
       "   9.779411554336547852e-01  9.264705777168273926e-01  \\\n",
       "0                  0.960114                  0.863248   \n",
       "1                  1.000000                  0.659459   \n",
       "2                  0.925414                  0.665746   \n",
       "3                  0.967136                  1.000000   \n",
       "4                  0.927461                  1.000000   \n",
       "\n",
       "   6.813725233078002930e-01  2.450980395078659058e-01  \\\n",
       "0                  0.461538                  0.196581   \n",
       "1                  0.186486                  0.070270   \n",
       "2                  0.541436                  0.276243   \n",
       "3                  0.830986                  0.586854   \n",
       "4                  0.626943                  0.193437   \n",
       "\n",
       "   1.544117629528045654e-01  1.911764740943908691e-01  \\\n",
       "0                  0.094017                  0.125356   \n",
       "1                  0.070270                  0.059459   \n",
       "2                  0.196133                  0.077348   \n",
       "3                  0.356808                  0.248826   \n",
       "4                  0.094991                  0.072539   \n",
       "\n",
       "   1.519607901573181152e-01  8.578431606292724609e-02  \\\n",
       "0                  0.099715                  0.088319   \n",
       "1                  0.056757                  0.043243   \n",
       "2                  0.071823                  0.060773   \n",
       "3                  0.145540                  0.089202   \n",
       "4                  0.043178                  0.053541   \n",
       "\n",
       "   5.882352963089942932e-02  4.901960864663124084e-02  ...  \\\n",
       "0                  0.074074                  0.082621  ...   \n",
       "1                  0.054054                  0.045946  ...   \n",
       "2                  0.066298                  0.058011  ...   \n",
       "3                  0.117371                  0.150235  ...   \n",
       "4                  0.093264                  0.189983  ...   \n",
       "\n",
       "   0.000000000000000000e+00.79  0.000000000000000000e+00.80  \\\n",
       "0                          0.0                          0.0   \n",
       "1                          0.0                          0.0   \n",
       "2                          0.0                          0.0   \n",
       "3                          0.0                          0.0   \n",
       "4                          0.0                          0.0   \n",
       "\n",
       "   0.000000000000000000e+00.81  0.000000000000000000e+00.82  \\\n",
       "0                          0.0                          0.0   \n",
       "1                          0.0                          0.0   \n",
       "2                          0.0                          0.0   \n",
       "3                          0.0                          0.0   \n",
       "4                          0.0                          0.0   \n",
       "\n",
       "   0.000000000000000000e+00.83  0.000000000000000000e+00.84  \\\n",
       "0                          0.0                          0.0   \n",
       "1                          0.0                          0.0   \n",
       "2                          0.0                          0.0   \n",
       "3                          0.0                          0.0   \n",
       "4                          0.0                          0.0   \n",
       "\n",
       "   0.000000000000000000e+00.85  0.000000000000000000e+00.86  \\\n",
       "0                          0.0                          0.0   \n",
       "1                          0.0                          0.0   \n",
       "2                          0.0                          0.0   \n",
       "3                          0.0                          0.0   \n",
       "4                          0.0                          0.0   \n",
       "\n",
       "   0.000000000000000000e+00.87  0.000000000000000000e+00.88  \n",
       "0                          0.0                          0.0  \n",
       "1                          0.0                          0.0  \n",
       "2                          0.0                          0.0  \n",
       "3                          0.0                          0.0  \n",
       "4                          0.0                          0.0  \n",
       "\n",
       "[5 rows x 188 columns]"
      ]
     },
     "execution_count": 14,
     "metadata": {},
     "output_type": "execute_result"
    }
   ],
   "source": [
    "mitbih_train.head()"
   ]
  },
  {
   "cell_type": "markdown",
   "id": "7184c875",
   "metadata": {},
   "source": [
    "We can already see, that the column names aren't named like we used to see, but instead contain some numerical values"
   ]
  },
  {
   "cell_type": "code",
   "execution_count": 16,
   "id": "16a1e3b0",
   "metadata": {},
   "outputs": [
    {
     "data": {
      "text/plain": [
       "9.779411554336547852e-01       float64\n",
       "9.264705777168273926e-01       float64\n",
       "6.813725233078002930e-01       float64\n",
       "2.450980395078659058e-01       float64\n",
       "1.544117629528045654e-01       float64\n",
       "                                ...   \n",
       "0.000000000000000000e+00.84    float64\n",
       "0.000000000000000000e+00.85    float64\n",
       "0.000000000000000000e+00.86    float64\n",
       "0.000000000000000000e+00.87    float64\n",
       "0.000000000000000000e+00.88    float64\n",
       "Length: 188, dtype: object"
      ]
     },
     "execution_count": 16,
     "metadata": {},
     "output_type": "execute_result"
    }
   ],
   "source": [
    "mitbih_train.dtypes"
   ]
  },
  {
   "cell_type": "markdown",
   "id": "cd2f921d",
   "metadata": {},
   "source": [
    "The datatypes for each column is of type float. If we look at the last five entries, we see an ascending order.\n",
    "Further analysis concludes that the columns represent a timeline."
   ]
  },
  {
   "cell_type": "code",
   "execution_count": 17,
   "id": "8f7f4246-cf19-49c0-82df-b61bed51d60b",
   "metadata": {},
   "outputs": [
    {
     "name": "stdout",
     "output_type": "stream",
     "text": [
      "<class 'pandas.core.frame.DataFrame'>\n",
      "RangeIndex: 87553 entries, 0 to 87552\n",
      "Columns: 188 entries, 9.779411554336547852e-01 to 0.000000000000000000e+00.88\n",
      "dtypes: float64(188)\n",
      "memory usage: 125.6 MB\n"
     ]
    }
   ],
   "source": [
    "mitbih_train.info()"
   ]
  },
  {
   "cell_type": "markdown",
   "id": "9d6fbab4",
   "metadata": {},
   "source": [
    "The dataframe shows 188 columns of type float and 87553 rows of data. \n",
    "\n",
    "Since all values are numerical, and at first glance most of the data seems to be ranging from 0 to 1, we cannot immediately see any missing values."
   ]
  },
  {
   "cell_type": "code",
   "execution_count": 22,
   "id": "cb62d569",
   "metadata": {},
   "outputs": [
    {
     "name": "stdout",
     "output_type": "stream",
     "text": [
      "Null values:  0\n"
     ]
    }
   ],
   "source": [
    "print('Null values: ', mitbih_train.isna().sum().sum())"
   ]
  },
  {
   "cell_type": "markdown",
   "id": "dd05bc78",
   "metadata": {},
   "source": [
    "To get a better undestanding of the data, we will try to visualize the data entries."
   ]
  },
  {
   "cell_type": "code",
   "execution_count": 29,
   "id": "fee53f09",
   "metadata": {},
   "outputs": [
    {
     "data": {
      "text/plain": [
       "<Axes: xlabel='None', ylabel='None'>"
      ]
     },
     "execution_count": 29,
     "metadata": {},
     "output_type": "execute_result"
    },
    {
     "data": {
      "image/png": "[encoded data removed]",
      "text/plain": [
       "<Figure size 640x480 with 1 Axes>"
      ]
     },
     "metadata": {},
     "output_type": "display_data"
    }
   ],
   "source": [
    "sns.scatterplot(x = mitbih_train.columns, y=mitbih_train.max())"
   ]
  },
  {
   "cell_type": "markdown",
   "id": "df4e934e",
   "metadata": {},
   "source": [
    "We can see, that most columns seem to be normalized, but only the last column contains a maximum that is 4.\n",
    "So lets look at the last column"
   ]
  },
  {
   "cell_type": "code",
   "execution_count": 34,
   "id": "1d88b8d3",
   "metadata": {},
   "outputs": [
    {
     "data": {
      "text/plain": [
       "0.000000000000000000e+00.88\n",
       "0.0                            72470\n",
       "4.0                             6431\n",
       "2.0                             5788\n",
       "1.0                             2223\n",
       "3.0                              641\n",
       "Name: count, dtype: int64"
      ]
     },
     "execution_count": 34,
     "metadata": {},
     "output_type": "execute_result"
    }
   ],
   "source": [
    "last_col = mitbih_train.iloc[:,-1:]\n",
    "last_col.value_counts()"
   ]
  },
  {
   "cell_type": "markdown",
   "id": "e9212684",
   "metadata": {},
   "source": [
    "The last column resembles a qualitative variable.\n",
    "Which by further analysis corresponds to the following medical terms:\n",
    "\n",
    "'N' → 0 : Normal beat\n",
    "\n",
    "'S' → 1 : Supraventricular ectopic beat\n",
    "\n",
    "'V' → 2 : Ventricular ectopic beat\n",
    "\n",
    "'F' → 3 : Fusion beat\n",
    "\n",
    "'Q' → 4 : Unknown beat"
   ]
  },
  {
   "cell_type": "markdown",
   "id": "0dfa9308",
   "metadata": {},
   "source": []
  },
  {
   "cell_type": "markdown",
   "id": "9a382909",
   "metadata": {},
   "source": [
    "So lets change the last column into something more readable and dislay the distribution in a countplot."
   ]
  },
  {
   "cell_type": "code",
   "execution_count": 41,
   "id": "488be68c",
   "metadata": {},
   "outputs": [
    {
     "data": {
      "image/png": "[encoded data removed]",
      "text/plain": [
       "<Figure size 640x480 with 1 Axes>"
      ]
     },
     "metadata": {},
     "output_type": "display_data"
    }
   ],
   "source": [
    "mitbih_train.columns = [*mitbih_train.columns[:-1], 'Beat_category']\n",
    "sns.countplot(x = 'Beat_category', data = mitbih_train)\n",
    "\n",
    "plt.show()"
   ]
  },
  {
   "cell_type": "markdown",
   "id": "9676ecca",
   "metadata": {},
   "source": [
    "We can see, that the largest category is the normal heartbeat, followed by an unknown heartbeat.\n",
    "The category \"Ventricular ectopic beat\" represents the largest group of known abonormal beats.\n",
    "\n",
    "We will now combine the \"abnormal\" beats and look at the percentage they represent in the data:"
   ]
  },
  {
   "cell_type": "code",
   "execution_count": 49,
   "id": "95863471",
   "metadata": {},
   "outputs": [
    {
     "name": "stdout",
     "output_type": "stream",
     "text": [
      "The percentage of abnormal beats is 17.227279476431416 percent\n"
     ]
    }
   ],
   "source": [
    "abormal_values = mitbih_train.Beat_category[mitbih_train.Beat_category > 0]\n",
    "print('The percentage of abnormal beats is {} percent'.format(len(abormal_values) / len(mitbih_train) * 100))"
   ]
  }
 ],
 "metadata": {
  "kernelspec": {
   "display_name": "Python 3",
   "language": "python",
   "name": "python3"
  },
  "language_info": {
   "codemirror_mode": {
    "name": "ipython",
    "version": 3
   },
   "file_extension": ".py",
   "mimetype": "text/x-python",
   "name": "python",
   "nbconvert_exporter": "python",
   "pygments_lexer": "ipython3",
   "version": "3.13.7"
  }
 },
 "nbformat": 4,
 "nbformat_minor": 5
}
